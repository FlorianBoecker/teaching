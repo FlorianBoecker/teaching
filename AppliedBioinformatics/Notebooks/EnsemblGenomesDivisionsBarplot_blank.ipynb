{
  "nbformat": 4,
  "nbformat_minor": 0,
  "metadata": {
    "colab": {
      "name": "EnsemblGenomesDivisionsBarplot_blank.ipynb",
      "provenance": [],
      "collapsed_sections": [
        "9IBD9Pt4WTuB",
        "GC9Na1HEWPOc",
        "uMuu-E5AXSz6",
        "VOxFmge4ZW3O",
        "6VNLfQEeXd7r",
        "-pxPv-qCaW66",
        "n20ghAURcdJL"
      ],
      "toc_visible": true,
      "include_colab_link": true
    },
    "kernelspec": {
      "name": "ir",
      "display_name": "R"
    }
  },
  "cells": [
    {
      "cell_type": "markdown",
      "metadata": {
        "id": "view-in-github",
        "colab_type": "text"
      },
      "source": [
        "<a href=\"https://colab.research.google.com/github/FlorianBoecker/teaching/blob/master/AppliedBioinformatics/Notebooks/EnsemblGenomesDivisionsBarplot_blank.ipynb\" target=\"_parent\"><img src=\"https://colab.research.google.com/assets/colab-badge.svg\" alt=\"Open In Colab\"/></a>"
      ]
    },
    {
      "cell_type": "markdown",
      "metadata": {
        "id": "q907__oWhq5o",
        "colab_type": "text"
      },
      "source": [
        "# Example code to get you started"
      ]
    },
    {
      "cell_type": "markdown",
      "metadata": {
        "id": "Do5JkLaPoifD",
        "colab_type": "text"
      },
      "source": [
        "Read in some example data:"
      ]
    },
    {
      "cell_type": "code",
      "metadata": {
        "id": "3HK-Y9wXhqa3",
        "colab_type": "code",
        "colab": {}
      },
      "source": [
        "caliHousing <- read.table(\"sample_data/california_housing_test.csv\", sep=\",\", header=T)\n",
        "str(caliHousing)"
      ],
      "execution_count": 0,
      "outputs": []
    },
    {
      "cell_type": "markdown",
      "metadata": {
        "id": "z8QE6jbfoouV",
        "colab_type": "text"
      },
      "source": [
        "Create a plot:"
      ]
    },
    {
      "cell_type": "code",
      "metadata": {
        "id": "QL78dX8towBh",
        "colab_type": "code",
        "colab": {}
      },
      "source": [
        "plot(caliHousing$median_income, caliHousing$median_house_value)"
      ],
      "execution_count": 0,
      "outputs": []
    },
    {
      "cell_type": "markdown",
      "metadata": {
        "id": "nhnngFT6oyqX",
        "colab_type": "text"
      },
      "source": [
        "Save the plot to pdf:"
      ]
    },
    {
      "cell_type": "code",
      "metadata": {
        "id": "ARDuILjjo12O",
        "colab_type": "code",
        "colab": {}
      },
      "source": [
        "pdf(\"caliHousing.pdf\")\n",
        "plot(caliHousing$median_income, caliHousing$median_house_value)\n",
        "dev.off()"
      ],
      "execution_count": 0,
      "outputs": []
    },
    {
      "cell_type": "markdown",
      "metadata": {
        "id": "Z1ARV2VjpPi7",
        "colab_type": "text"
      },
      "source": [
        "The pdf file should appear in the 'Files' menu of the sidebar on the left.\n",
        "\n",
        "Click on the three vertical dots next to it and choose 'Download' to transfer the pdf to your workstation."
      ]
    },
    {
      "cell_type": "markdown",
      "metadata": {
        "id": "9IBD9Pt4WTuB",
        "colab_type": "text"
      },
      "source": [
        "#Applied Bioinformatics 2021: Plot EnsemblGenomes Division Counts"
      ]
    },
    {
      "cell_type": "markdown",
      "metadata": {
        "id": "VOxFmge4ZW3O",
        "colab_type": "text"
      },
      "source": [
        "##Read in file with number of genomes per division"
      ]
    },
    {
      "cell_type": "markdown",
      "metadata": {
        "id": "AObjdYYMXUki",
        "colab_type": "text"
      },
      "source": [
        "The file must have been uploaded to Google Colab via the 'Upload' button in the 'Files' menu of the sidebar on the left."
      ]
    },
    {
      "cell_type": "code",
      "metadata": {
        "id": "-OFVF5U03kq5",
        "colab_type": "code",
        "colab": {}
      },
      "source": [
        ""
      ],
      "execution_count": 0,
      "outputs": []
    },
    {
      "cell_type": "markdown",
      "metadata": {
        "id": "6VNLfQEeXd7r",
        "colab_type": "text"
      },
      "source": [
        "##Use the base R command for barplots"
      ]
    },
    {
      "cell_type": "markdown",
      "metadata": {
        "id": "vdW8ltgjZldn",
        "colab_type": "text"
      },
      "source": [
        "Just use the <code>barplot</code> command:\n",
        "\n"
      ]
    },
    {
      "cell_type": "code",
      "metadata": {
        "id": "poE778gqWnAo",
        "colab_type": "code",
        "colab": {}
      },
      "source": [
        ""
      ],
      "execution_count": 0,
      "outputs": []
    },
    {
      "cell_type": "markdown",
      "metadata": {
        "id": "wrI0a-pmqvHs",
        "colab_type": "text"
      },
      "source": [
        "## Or use the 'ggplot2' package"
      ]
    },
    {
      "cell_type": "markdown",
      "metadata": {
        "id": "W7ZzIF_prCO1",
        "colab_type": "text"
      },
      "source": [
        "Install and load the package:"
      ]
    },
    {
      "cell_type": "code",
      "metadata": {
        "id": "ZdjTR-c5q3s1",
        "colab_type": "code",
        "colab": {}
      },
      "source": [
        "install.packages(\"ggplot2\")\n",
        "library(ggplot2)"
      ],
      "execution_count": 0,
      "outputs": []
    },
    {
      "cell_type": "markdown",
      "metadata": {
        "id": "wGtUnMQgrGGz",
        "colab_type": "text"
      },
      "source": [
        "Use the <code>geom_bar</code> command:"
      ]
    },
    {
      "cell_type": "code",
      "metadata": {
        "id": "LQavu7HzrPL6",
        "colab_type": "code",
        "colab": {}
      },
      "source": [
        ""
      ],
      "execution_count": 0,
      "outputs": []
    }
  ]
}
