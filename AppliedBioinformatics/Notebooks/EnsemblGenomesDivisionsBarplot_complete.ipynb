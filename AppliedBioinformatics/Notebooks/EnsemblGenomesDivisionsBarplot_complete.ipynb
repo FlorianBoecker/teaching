{
  "nbformat": 4,
  "nbformat_minor": 0,
  "metadata": {
    "colab": {
      "name": "EnsemblGenomesDivisionsBarplot_complete.ipynb",
      "provenance": [],
      "collapsed_sections": [
        "9IBD9Pt4WTuB",
        "GC9Na1HEWPOc",
        "uMuu-E5AXSz6",
        "VOxFmge4ZW3O",
        "6VNLfQEeXd7r",
        "-pxPv-qCaW66",
        "n20ghAURcdJL"
      ],
      "toc_visible": true,
      "include_colab_link": true
    },
    "kernelspec": {
      "name": "ir",
      "display_name": "R"
    }
  },
  "cells": [
    {
      "cell_type": "markdown",
      "metadata": {
        "id": "view-in-github",
        "colab_type": "text"
      },
      "source": [
        "<a href=\"https://colab.research.google.com/github/FlorianBoecker/teaching/blob/master/AppliedBioinformatics/Notebooks/EnsemblGenomesDivisionsBarplot_complete.ipynb\" target=\"_parent\"><img src=\"https://colab.research.google.com/assets/colab-badge.svg\" alt=\"Open In Colab\"/></a>"
      ]
    },
    {
      "cell_type": "markdown",
      "metadata": {
        "id": "9IBD9Pt4WTuB",
        "colab_type": "text"
      },
      "source": [
        "#Applied Bioinformatics 2020: Plot EnsemblGenomes Division Counts"
      ]
    },
    {
      "cell_type": "markdown",
      "metadata": {
        "id": "GC9Na1HEWPOc",
        "colab_type": "text"
      },
      "source": [
        "##Information about the R environment we are working in"
      ]
    },
    {
      "cell_type": "code",
      "metadata": {
        "id": "6qzcINTZ3jRc",
        "colab_type": "code",
        "colab": {
          "base_uri": "https://localhost:8080/",
          "height": 1000
        },
        "outputId": "dd222ca5-fb95-46ad-b134-f27ae720945f"
      },
      "source": [
        "R.Version()"
      ],
      "execution_count": 1,
      "outputs": [
        {
          "output_type": "display_data",
          "data": {
            "text/plain": [
              "$platform\n",
              "[1] \"x86_64-pc-linux-gnu\"\n",
              "\n",
              "$arch\n",
              "[1] \"x86_64\"\n",
              "\n",
              "$os\n",
              "[1] \"linux-gnu\"\n",
              "\n",
              "$system\n",
              "[1] \"x86_64, linux-gnu\"\n",
              "\n",
              "$status\n",
              "[1] \"\"\n",
              "\n",
              "$major\n",
              "[1] \"3\"\n",
              "\n",
              "$minor\n",
              "[1] \"6.3\"\n",
              "\n",
              "$year\n",
              "[1] \"2020\"\n",
              "\n",
              "$month\n",
              "[1] \"02\"\n",
              "\n",
              "$day\n",
              "[1] \"29\"\n",
              "\n",
              "$`svn rev`\n",
              "[1] \"77875\"\n",
              "\n",
              "$language\n",
              "[1] \"R\"\n",
              "\n",
              "$version.string\n",
              "[1] \"R version 3.6.3 (2020-02-29)\"\n",
              "\n",
              "$nickname\n",
              "[1] \"Holding the Windsock\"\n"
            ],
            "text/latex": "\\begin{description}\n\\item[\\$platform] 'x86\\_64-pc-linux-gnu'\n\\item[\\$arch] 'x86\\_64'\n\\item[\\$os] 'linux-gnu'\n\\item[\\$system] 'x86\\_64, linux-gnu'\n\\item[\\$status] ''\n\\item[\\$major] '3'\n\\item[\\$minor] '6.3'\n\\item[\\$year] '2020'\n\\item[\\$month] '02'\n\\item[\\$day] '29'\n\\item[\\$`svn rev`] '77875'\n\\item[\\$language] 'R'\n\\item[\\$version.string] 'R version 3.6.3 (2020-02-29)'\n\\item[\\$nickname] 'Holding the Windsock'\n\\end{description}\n",
            "text/markdown": "$platform\n:   'x86_64-pc-linux-gnu'\n$arch\n:   'x86_64'\n$os\n:   'linux-gnu'\n$system\n:   'x86_64, linux-gnu'\n$status\n:   ''\n$major\n:   '3'\n$minor\n:   '6.3'\n$year\n:   '2020'\n$month\n:   '02'\n$day\n:   '29'\n$`svn rev`\n:   '77875'\n$language\n:   'R'\n$version.string\n:   'R version 3.6.3 (2020-02-29)'\n$nickname\n:   'Holding the Windsock'\n\n\n",
            "text/html": [
              "<dl>\n",
              "\t<dt>$platform</dt>\n",
              "\t\t<dd>'x86_64-pc-linux-gnu'</dd>\n",
              "\t<dt>$arch</dt>\n",
              "\t\t<dd>'x86_64'</dd>\n",
              "\t<dt>$os</dt>\n",
              "\t\t<dd>'linux-gnu'</dd>\n",
              "\t<dt>$system</dt>\n",
              "\t\t<dd>'x86_64, linux-gnu'</dd>\n",
              "\t<dt>$status</dt>\n",
              "\t\t<dd>''</dd>\n",
              "\t<dt>$major</dt>\n",
              "\t\t<dd>'3'</dd>\n",
              "\t<dt>$minor</dt>\n",
              "\t\t<dd>'6.3'</dd>\n",
              "\t<dt>$year</dt>\n",
              "\t\t<dd>'2020'</dd>\n",
              "\t<dt>$month</dt>\n",
              "\t\t<dd>'02'</dd>\n",
              "\t<dt>$day</dt>\n",
              "\t\t<dd>'29'</dd>\n",
              "\t<dt>$`svn rev`</dt>\n",
              "\t\t<dd>'77875'</dd>\n",
              "\t<dt>$language</dt>\n",
              "\t\t<dd>'R'</dd>\n",
              "\t<dt>$version.string</dt>\n",
              "\t\t<dd>'R version 3.6.3 (2020-02-29)'</dd>\n",
              "\t<dt>$nickname</dt>\n",
              "\t\t<dd>'Holding the Windsock'</dd>\n",
              "</dl>\n"
            ]
          },
          "metadata": {
            "tags": []
          }
        },
        {
          "output_type": "stream",
          "text": [
            "Installing package into ‘/usr/local/lib/R/site-library’\n",
            "(as ‘lib’ is unspecified)\n",
            "\n",
            "system (cmd0): /usr/lib/R/bin/R CMD INSTALL\n",
            "\n",
            "foundpkgs: BiocManager, /tmp/Rtmpp3lnA7/downloaded_packages/BiocManager_1.30.10.tar.gz\n",
            "\n",
            "files: /tmp/Rtmpp3lnA7/downloaded_packages/BiocManager_1.30.10.tar.gz\n",
            "\n",
            "1): succeeded '/usr/lib/R/bin/R CMD INSTALL -l '/usr/local/lib/R/site-library' /tmp/Rtmpp3lnA7/downloaded_packages/BiocManager_1.30.10.tar.gz'\n",
            "\n",
            "Bioconductor version 3.9 (BiocManager 1.30.10), R 3.6.3 (2020-02-29)\n",
            "\n",
            "Installing package(s) 'BiocVersion'\n",
            "\n",
            "Installing package(s) 'backports', 'curl', 'ellipsis', 'farver', 'glue',\n",
            "  'modelr', 'processx', 'rex', 'rprojroot', 'systemfonts', 'tidyr', 'tinytex',\n",
            "  'xfun'\n",
            "\n",
            "Installing package into ‘/usr/local/lib/R/site-library’\n",
            "(as ‘lib’ is unspecified)\n",
            "\n",
            "also installing the dependencies ‘formatR’, ‘lambda.r’, ‘futile.options’, ‘futile.logger’\n",
            "\n",
            "\n",
            "Bioconductor version 3.9 (BiocManager 1.30.10), R 3.6.3 (2020-02-29)\n",
            "\n",
            "Installing package(s) 'limma'\n",
            "\n",
            "Old packages: 'backports', 'curl', 'ellipsis', 'farver', 'glue', 'modelr',\n",
            "  'processx', 'rex', 'rprojroot', 'systemfonts', 'tidyr', 'tinytex', 'xfun'\n",
            "\n",
            "Bioconductor version 3.9 (BiocManager 1.30.10), R 3.6.3 (2020-02-29)\n",
            "\n",
            "Installing package(s) 'edgeR'\n",
            "\n",
            "also installing the dependency ‘locfit’\n",
            "\n",
            "\n",
            "Old packages: 'backports', 'curl', 'ellipsis', 'farver', 'glue', 'modelr',\n",
            "  'processx', 'rex', 'rprojroot', 'systemfonts', 'tidyr', 'tinytex', 'xfun'\n",
            "\n"
          ],
          "name": "stderr"
        }
      ]
    },
    {
      "cell_type": "markdown",
      "metadata": {
        "id": "VOxFmge4ZW3O",
        "colab_type": "text"
      },
      "source": [
        "##Read in file with number of genomes per division"
      ]
    },
    {
      "cell_type": "markdown",
      "metadata": {
        "id": "AObjdYYMXUki",
        "colab_type": "text"
      },
      "source": [
        "The file must have been uploaded to Google Colab via the 'Upload' button on the upper left"
      ]
    },
    {
      "cell_type": "code",
      "metadata": {
        "id": "-OFVF5U03kq5",
        "colab_type": "code",
        "colab": {
          "base_uri": "https://localhost:8080/",
          "height": 186
        },
        "outputId": "1bb890b0-72c5-4041-a02d-03612868c919"
      },
      "source": [
        "counts <- read.table(\"divisionCounts.txt\")\n",
        "colnames(counts) <- c(\"count\", \"division\")\n",
        "counts"
      ],
      "execution_count": 11,
      "outputs": [
        {
          "output_type": "display_data",
          "data": {
            "text/plain": [
              "  count division       \n",
              "1 44048 EnsemblBacteria\n",
              "2  1014 EnsemblFungi   \n",
              "3   112 EnsemblMetazoa \n",
              "4    79 EnsemblPlants  \n",
              "5   237 EnsemblProtists"
            ],
            "text/latex": "A data.frame: 5 × 2\n\\begin{tabular}{ll}\n count & division\\\\\n <int> & <fct>\\\\\n\\hline\n\t 44048 & EnsemblBacteria\\\\\n\t  1014 & EnsemblFungi   \\\\\n\t   112 & EnsemblMetazoa \\\\\n\t    79 & EnsemblPlants  \\\\\n\t   237 & EnsemblProtists\\\\\n\\end{tabular}\n",
            "text/markdown": "\nA data.frame: 5 × 2\n\n| count &lt;int&gt; | division &lt;fct&gt; |\n|---|---|\n| 44048 | EnsemblBacteria |\n|  1014 | EnsemblFungi    |\n|   112 | EnsemblMetazoa  |\n|    79 | EnsemblPlants   |\n|   237 | EnsemblProtists |\n\n",
            "text/html": [
              "<table>\n",
              "<caption>A data.frame: 5 × 2</caption>\n",
              "<thead>\n",
              "\t<tr><th scope=col>count</th><th scope=col>division</th></tr>\n",
              "\t<tr><th scope=col>&lt;int&gt;</th><th scope=col>&lt;fct&gt;</th></tr>\n",
              "</thead>\n",
              "<tbody>\n",
              "\t<tr><td>44048</td><td>EnsemblBacteria</td></tr>\n",
              "\t<tr><td> 1014</td><td>EnsemblFungi   </td></tr>\n",
              "\t<tr><td>  112</td><td>EnsemblMetazoa </td></tr>\n",
              "\t<tr><td>   79</td><td>EnsemblPlants  </td></tr>\n",
              "\t<tr><td>  237</td><td>EnsemblProtists</td></tr>\n",
              "</tbody>\n",
              "</table>\n"
            ]
          },
          "metadata": {
            "tags": []
          }
        }
      ]
    },
    {
      "cell_type": "markdown",
      "metadata": {
        "id": "6VNLfQEeXd7r",
        "colab_type": "text"
      },
      "source": [
        "##Use the base R command for barplots"
      ]
    },
    {
      "cell_type": "markdown",
      "metadata": {
        "id": "vdW8ltgjZldn",
        "colab_type": "text"
      },
      "source": [
        "Let's check out a MDS plot, since this time around the dataset is much more reasonable for such a visualization.  \n",
        "We should get a plot very similar to Figure 1A of the Hochholdinger publication - compare:"
      ]
    },
    {
      "cell_type": "code",
      "metadata": {
        "id": "poE778gqWnAo",
        "colab_type": "code",
        "colab": {
          "base_uri": "https://localhost:8080/",
          "height": 437
        },
        "outputId": "e79dfd9e-eeac-49da-8a3c-f555f39ec131"
      },
      "source": [
        "barplot(height=counts$count, names.arg=counts$division)"
      ],
      "execution_count": 16,
      "outputs": [
        {
          "output_type": "display_data",
          "data": {
            "image/png": "[encoded data removed]",
            "text/plain": [
              "plot without title"
            ]
          },
          "metadata": {
            "tags": [],
            "image/png": {
              "width": 420,
              "height": 420
            },
            "text/plain": {
              "width": 420,
              "height": 420
            }
          }
        }
      ]
    }
  ]
}