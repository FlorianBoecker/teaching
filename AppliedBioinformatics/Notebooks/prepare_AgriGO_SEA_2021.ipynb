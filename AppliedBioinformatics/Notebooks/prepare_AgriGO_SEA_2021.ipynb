{
  "nbformat": 4,
  "nbformat_minor": 0,
  "metadata": {
    "colab": {
      "name": "prepare_AgriGO_SEA_2021.ipynb",
      "provenance": [],
      "collapsed_sections": [],
      "toc_visible": true,
      "include_colab_link": true
    },
    "kernelspec": {
      "name": "ir",
      "display_name": "R"
    }
  },
  "cells": [
    {
      "cell_type": "markdown",
      "metadata": {
        "id": "view-in-github",
        "colab_type": "text"
      },
      "source": [
        "<a href=\"https://colab.research.google.com/github/FlorianBoecker/teaching/blob/master/AppliedBioinformatics/Notebooks/prepare_AgriGO_SEA_2021.ipynb\" target=\"_parent\"><img src=\"https://colab.research.google.com/assets/colab-badge.svg\" alt=\"Open In Colab\"/></a>"
      ]
    },
    {
      "cell_type": "markdown",
      "metadata": {
        "id": "9IBD9Pt4WTuB"
      },
      "source": [
        "#Prepare Gene Level Expression Data for PAGE analysis in AgriGO"
      ]
    },
    {
      "cell_type": "markdown",
      "metadata": {
        "id": "GC9Na1HEWPOc"
      },
      "source": [
        "##Install and load necessary R packages"
      ]
    },
    {
      "cell_type": "code",
      "metadata": {
        "id": "6qzcINTZ3jRc"
      },
      "source": [
        "R.Version()\n",
        "\n",
        "install.packages(\"statmod\", verbose = TRUE)\n",
        "install.packages(\"BiocManager\", verbose = TRUE)\n",
        "BiocManager::install(ask = FALSE)\n",
        "BiocManager::install(\"limma\")\n",
        "BiocManager::install(\"edgeR\")"
      ],
      "execution_count": null,
      "outputs": []
    },
    {
      "cell_type": "code",
      "metadata": {
        "id": "u_wwXh943kkW"
      },
      "source": [
        "library(statmod)\n",
        "library(limma)\n",
        "library(edgeR)"
      ],
      "execution_count": null,
      "outputs": []
    },
    {
      "cell_type": "markdown",
      "metadata": {
        "id": "zM4A8ez9plt3"
      },
      "source": [
        "##Load the data"
      ]
    },
    {
      "cell_type": "markdown",
      "metadata": {
        "id": "VeCnbacd1tcR"
      },
      "source": [
        "Under the github link we provided in the exercise sheets (https://github.com/tgstoecker/teaching/tree/master/AppliedBioinformatics/Results_2021), you can choose the featureCounts output you or your group generated.  \n",
        "Just exchange its raw data link for the one shown here. "
      ]
    },
    {
      "cell_type": "code",
      "metadata": {
        "id": "RxznGe4g5p85"
      },
      "source": [
        "counts <- \"https://raw.githubusercontent.com/tgstoecker/teaching/master/AppliedBioinformatics/B73/gene-level/total_file.count\"\n",
        "fc_res <- read.table(counts, header = T, row.names = 1)"
      ],
      "execution_count": null,
      "outputs": []
    },
    {
      "cell_type": "markdown",
      "metadata": {
        "id": "YY_-kKNyT4uL"
      },
      "source": [
        "Shorten the column names indicating the samples - e.g.:\n"
      ]
    },
    {
      "cell_type": "code",
      "metadata": {
        "id": "0lPWDsaFdbrI"
      },
      "source": [
        "colnames(fc_res) <- sub(\"_trimmed_sorted.bam\", \"\", colnames(fc_res))"
      ],
      "execution_count": null,
      "outputs": []
    },
    {
      "cell_type": "markdown",
      "metadata": {
        "id": "dAD4dEq5qEAd"
      },
      "source": [
        "## Determine differentially expressed genes"
      ]
    },
    {
      "cell_type": "markdown",
      "metadata": {
        "id": "WqJWRmrrV_mn"
      },
      "source": [
        "Create a vector indicating treatment conditions of the samples \n",
        "- logic: columns left to right"
      ]
    },
    {
      "cell_type": "code",
      "metadata": {
        "id": "BrA8-BH6vmU1"
      },
      "source": [
        "group = c(\"control\", \"control\", \"control\", \"control\", \"drought\", \"drought\", \"drought\", \"drought\")"
      ],
      "execution_count": null,
      "outputs": []
    },
    {
      "cell_type": "markdown",
      "metadata": {
        "id": "i2ixXus1VzOR"
      },
      "source": [
        "Create a DGE list object"
      ]
    },
    {
      "cell_type": "code",
      "metadata": {
        "id": "YSoQ018ZVuay"
      },
      "source": [
        "dge = DGEList(counts = fc_res[, 6:13], group = group, genes = rownames(fc_res))"
      ],
      "execution_count": null,
      "outputs": []
    },
    {
      "cell_type": "markdown",
      "metadata": {
        "id": "8LYC36wvXddA"
      },
      "source": [
        "Transformation of raw read counts"
      ]
    },
    {
      "cell_type": "code",
      "metadata": {
        "id": "0BHlttXXmvCD"
      },
      "source": [
        "cpm <- cpm(dge)\n",
        "lcpm <- cpm(dge, log=TRUE)"
      ],
      "execution_count": null,
      "outputs": []
    },
    {
      "cell_type": "markdown",
      "metadata": {
        "id": "mKyMPZORXJuR"
      },
      "source": [
        "Create design matrix"
      ]
    },
    {
      "cell_type": "code",
      "metadata": {
        "id": "dr67NGco0QTv"
      },
      "source": [
        "design <- model.matrix(~0+group)"
      ],
      "execution_count": null,
      "outputs": []
    },
    {
      "cell_type": "markdown",
      "metadata": {
        "id": "d2IDAP_mXrnS"
      },
      "source": [
        "Filter"
      ]
    },
    {
      "cell_type": "code",
      "metadata": {
        "id": "E-nk5QgroV9D"
      },
      "source": [
        "keep <- filterByExpr(dge, design)\n",
        "dge_filtered <- dge[keep, , keep.lib.sizes=FALSE]"
      ],
      "execution_count": null,
      "outputs": []
    },
    {
      "cell_type": "markdown",
      "metadata": {
        "id": "uohMuiAwYJY8"
      },
      "source": [
        "Normalization"
      ]
    },
    {
      "cell_type": "code",
      "metadata": {
        "id": "jHQhlDNfpCZI"
      },
      "source": [
        "dge_normalized <- calcNormFactors(dge_filtered, method = \"TMM\")"
      ],
      "execution_count": null,
      "outputs": []
    },
    {
      "cell_type": "markdown",
      "metadata": {
        "id": "QNWehF1yY4mC"
      },
      "source": [
        "Dispersion estimation"
      ]
    },
    {
      "cell_type": "code",
      "metadata": {
        "id": "GLYmPDQqY7Pp"
      },
      "source": [
        "dge_disp <- estimateDisp(dge_normalized, design, robust=TRUE)\n",
        "fit <- glmQLFit(dge_disp, design, robust=TRUE)"
      ],
      "execution_count": null,
      "outputs": []
    },
    {
      "cell_type": "markdown",
      "metadata": {
        "id": "QRTLp2v3Yn0a"
      },
      "source": [
        "Test for differential expression"
      ]
    },
    {
      "cell_type": "code",
      "metadata": {
        "id": "pE9vMah7YuZb"
      },
      "source": [
        "CvsD <- makeContrasts(groupdrought-groupcontrol, levels=design)\n",
        "res <- glmQLFTest(fit, contrast=CvsD)"
      ],
      "execution_count": null,
      "outputs": []
    },
    {
      "cell_type": "markdown",
      "metadata": {
        "id": "zGikflbLuElT"
      },
      "source": [
        "Select up and down regulated genes with a logFC and an FDR treshold"
      ]
    },
    {
      "cell_type": "code",
      "metadata": {
        "id": "5_CPNezJuKjm"
      },
      "source": [
        "check <- topTags(res, adjust.method = \"BH\", n = \"all\")\n",
        "# If there is time, you can experiment with different values for the thesholds!\n",
        "up_drought <- subset(check$table, logFC > 1 & FDR < 0.05)$genes\n",
        "down_drought <- subset(check$table, logFC < -1 & FDR < 0.05)$genes\n",
        "length(up_drought)\n",
        "length(down_drought)"
      ],
      "execution_count": null,
      "outputs": []
    },
    {
      "cell_type": "markdown",
      "metadata": {
        "id": "ovuUREy6qYtj"
      },
      "source": [
        "## Write data to file"
      ]
    },
    {
      "cell_type": "code",
      "metadata": {
        "id": "qxj7OPPji9YP"
      },
      "source": [
        "# Don't forget to change the filename to something that is appropriate to your genotype!\n",
        "write.table(up_drought, \"b73_upRegulatedGenes.tsv\", quote=F, row.names=F, col.names=F)\n",
        "write.table(down_drought, \"b73_downRegulatedGenes.tsv\", quote=F, row.names=F, col.names=F)"
      ],
      "execution_count": null,
      "outputs": []
    }
  ]
}